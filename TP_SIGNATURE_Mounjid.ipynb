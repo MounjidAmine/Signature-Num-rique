{
 "cells": [
  {
   "cell_type": "code",
   "execution_count": 4,
   "id": "8c52ddcd-1de6-4ad9-9169-fa91a09bf6ec",
   "metadata": {},
   "outputs": [
    {
     "name": "stdin",
     "output_type": "stream",
     "text": [
      "Entrez le mot de passe pour protéger la clé privée:  ········\n"
     ]
    },
    {
     "ename": "AttributeError",
     "evalue": "'bytes' object has no attribute 'encrypt'",
     "output_type": "error",
     "traceback": [
      "\u001b[0;31m---------------------------------------------------------------------------\u001b[0m",
      "\u001b[0;31mAttributeError\u001b[0m                            Traceback (most recent call last)",
      "Cell \u001b[0;32mIn[4], line 19\u001b[0m\n\u001b[1;32m     17\u001b[0m \u001b[38;5;66;03m# Chiffrer la clé privée avec le chiffrement symétrique\u001b[39;00m\n\u001b[1;32m     18\u001b[0m cipher_key \u001b[38;5;241m=\u001b[39m key\u001b[38;5;241m.\u001b[39mexport_key()\n\u001b[0;32m---> 19\u001b[0m encrypted_key \u001b[38;5;241m=\u001b[39m \u001b[43mcipher_key\u001b[49m\u001b[38;5;241;43m.\u001b[39;49m\u001b[43mencrypt\u001b[49m(key_cipher)\n\u001b[1;32m     21\u001b[0m \u001b[38;5;66;03m# Sauvegarder la clé privée chiffrée dans un fichier\u001b[39;00m\n\u001b[1;32m     22\u001b[0m \u001b[38;5;28;01mwith\u001b[39;00m \u001b[38;5;28mopen\u001b[39m(\u001b[38;5;124m'\u001b[39m\u001b[38;5;124mprivate_key.enc\u001b[39m\u001b[38;5;124m'\u001b[39m, \u001b[38;5;124m'\u001b[39m\u001b[38;5;124mwb\u001b[39m\u001b[38;5;124m'\u001b[39m) \u001b[38;5;28;01mas\u001b[39;00m file:\n",
      "\u001b[0;31mAttributeError\u001b[0m: 'bytes' object has no attribute 'encrypt'"
     ]
    }
   ],
   "source": [
    "from Crypto.PublicKey import RSA\n",
    "from Crypto.Random import get_random_bytes\n",
    "from Crypto.Protocol.KDF import PBKDF2\n",
    "import getpass\n",
    "import os\n",
    "\n",
    "# Générer une paire de clés RSA\n",
    "key = RSA.generate(2048)\n",
    "\n",
    "# Obtenir le mot de passe pour protéger la clé privée\n",
    "password = getpass.getpass(prompt='Entrez le mot de passe pour protéger la clé privée: ')\n",
    "\n",
    "# Utiliser le mot de passe pour générer une clé de chiffrement symétrique\n",
    "salt = get_random_bytes(16)\n",
    "key_cipher = PBKDF2(password, salt, dkLen=32)  # dkLen spécifie la longueur de la clé en octets (256 bits)\n",
    "\n",
    "# Chiffrer la clé privée avec le chiffrement symétrique\n",
    "cipher_key = key.export_key()\n",
    "encrypted_key = cipher_key.encrypt(key_cipher)\n",
    "\n",
    "# Sauvegarder la clé privée chiffrée dans un fichier\n",
    "with open('private_key.enc', 'wb') as file:\n",
    "    file.write(salt + encrypted_key)\n",
    "\n",
    "# Exporter la clé publique et la sauvegarder dans un fichier\n",
    "public_key = key.publickey().export_key()\n",
    "with open('public_key.pem', 'wb') as file:\n",
    "    file.write(public_key)\n",
    "\n",
    "print(\"La clé privée a été sauvegardée dans 'private_key.enc'.\")\n",
    "print(\"La clé publique a été sauvegardée dans 'public_key.pem'.\")\n"
   ]
  },
  {
   "cell_type": "code",
   "execution_count": null,
   "id": "7c8a06ef-e6dc-4f16-b266-e5c54dafc5af",
   "metadata": {},
   "outputs": [],
   "source": []
  }
 ],
 "metadata": {
  "kernelspec": {
   "display_name": "Python 3 (ipykernel)",
   "language": "python",
   "name": "python3"
  },
  "language_info": {
   "codemirror_mode": {
    "name": "ipython",
    "version": 3
   },
   "file_extension": ".py",
   "mimetype": "text/x-python",
   "name": "python",
   "nbconvert_exporter": "python",
   "pygments_lexer": "ipython3",
   "version": "3.9.18"
  }
 },
 "nbformat": 4,
 "nbformat_minor": 5
}
